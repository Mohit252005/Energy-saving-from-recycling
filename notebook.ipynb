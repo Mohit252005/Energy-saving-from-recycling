{
  "cells": [
    {
      "cell_type": "markdown",
      "metadata": {
        "id": "view-in-github",
        "colab_type": "text"
      },
      "source": [
        "<a href=\"https://colab.research.google.com/gist/charviey/c05d0f0b5cbe24db279bc7ff68b974c6/notebook.ipynb\" target=\"_parent\"><img src=\"https://colab.research.google.com/assets/colab-badge.svg\" alt=\"Open In Colab\"/></a>"
      ]
    },
    {
      "cell_type": "markdown",
      "metadata": {
        "dc": {
          "key": "4"
        },
        "deletable": false,
        "editable": false,
        "run_control": {
          "frozen": true
        },
        "tags": [
          "context"
        ],
        "id": "jgMB_QzhuRtD"
      },
      "source": [
        "## Energy saved from recycling\n",
        "<p>Did you know that recycling saves energy by reducing or eliminating the need to make materials from scratch? For example, aluminum can manufacturers can skip the energy-costly process of producing aluminum from ore by cleaning and melting recycled cans. Aluminum is classified as a non-ferrous metal.</p>\n",
        "<p>Singapore has an ambitious goal of becoming a zero-waste nation. The amount of waste disposed of in Singapore has increased seven-fold over the last 40 years. At this rate, Semakau Landfill, Singapore’s only landfill, will run out of space by 2035. Making matters worse, Singapore has limited land for building new incineration plants or landfills.</p>\n",
        "<p>The government would like to motivate citizens by sharing the total energy that the combined recycling efforts have saved every year. They have asked you to help them.</p>\n",
        "<p>You have been provided with three datasets. The data come from different teams, so the names of waste types may differ.</p>\n",
        "<div style=\"background-color: #efebe4; color: #05192d; text-align:left; vertical-align: middle; padding: 15px 25px 15px 25px; line-height: 1.6;\">\n",
        "    <div style=\"font-size:16px\"><b>datasets/wastestats.csv - Recycling statistics per waste type for the period 2003 to 2017</b>\n",
        "    </div>\n",
        "    <div>Source: <a href=\"https://www.nea.gov.sg/our-services/waste-management/waste-statistics-and-overall-recycling\">Singapore National Environment Agency</a></div>\n",
        "<ul>\n",
        "    <li><b>waste_type: </b>The type of waste recycled.</li>\n",
        "    <li><b>waste_disposed_of_tonne: </b>The amount of waste that could not be recycled (in metric tonnes).</li>\n",
        "    <li><b>total_waste_recycle_tonne: </b>The amount of waste that could be recycled (in metric tonnes).</li>\n",
        "    <li><b>total_waste_generated: </b>The total amount of waste collected before recycling (in metric tonnes).</li>\n",
        "    <li><b>recycling_rate: </b>The amount of waste recycled per tonne of waste generated.</li>\n",
        "    <li><b>year: </b>The recycling year.</li>\n",
        "</ul>\n",
        "    </div>\n",
        "<div style=\"background-color: #efebe4; color: #05192d; text-align:left; vertical-align: middle; padding: 15px 25px 15px 25px; line-height: 1.6; margin-top: 17px;\">\n",
        "    <div style=\"font-size:16px\"><b>datasets/2018_2019_waste.csv - Recycling statistics per waste type for the period 2018 to 2019</b>\n",
        "    </div>\n",
        "    <div> Source: <a href=\"https://www.nea.gov.sg/our-services/waste-management/waste-statistics-and-overall-recycling\">Singapore National Environment Agency</a></div>\n",
        "<ul>\n",
        "    <li><b>Waste Type: </b>The type of waste recycled.</li>\n",
        "    <li><b>Total Generated: </b>The total amount of waste collected before recycling (in thousands of metric tonnes).</li> \n",
        "    <li><b>Total Recycled: </b>The amount of waste that could be recycled. (in thousands of metric tonnes).</li>\n",
        "    <li><b>Year: </b>The recycling year.</li>\n",
        "</ul>\n",
        "    </div>\n",
        "<div style=\"background-color: #efebe4; color: #05192d; text-align:left; vertical-align: middle; padding: 15px 25px 15px 25px; line-height: 1.6; margin-top: 17px;\">\n",
        "    <div style=\"font-size:16px\"><b>datasets/energy_saved.csv -  Estimations of the amount of energy saved per waste type in kWh</b>\n",
        "    </div>\n",
        "<ul>\n",
        "    <li><b>material: </b>The type of waste recycled.</li>\n",
        "    <li><b>energy_saved: </b>An estimate of the energy saved (in kiloWatt hour) by recycling a metric tonne of waste.</li> \n",
        "    <li><b>crude_oil_saved: </b>An estimate of the number of barrels of oil saved by recycling a metric tonne of waste.</li>\n",
        "</ul>\n",
        "\n",
        "</div>\n",
        "<pre><code>\n",
        "</code></pre>"
      ]
    },
    {
      "cell_type": "code",
      "execution_count": null,
      "metadata": {
        "collapsed": true,
        "dc": {
          "key": "4"
        },
        "tags": [
          "sample_code"
        ],
        "id": "Yu_G4dF1uRtb"
      },
      "outputs": [],
      "source": [
        "# Use this cell to begin your analysis, and add as many as you would like!"
      ]
    },
    {
      "cell_type": "code",
      "execution_count": null,
      "metadata": {
        "collapsed": true,
        "dc": {
          "key": "4"
        },
        "id": "9s5m6R-8uRte"
      },
      "outputs": [],
      "source": [
        "import pandas as pd\n",
        "import numpy as np"
      ]
    },
    {
      "cell_type": "code",
      "execution_count": null,
      "metadata": {
        "collapsed": true,
        "dc": {
          "key": "4"
        },
        "id": "gXJo_y2ruRtg"
      },
      "outputs": [],
      "source": [
        "waste2017 = pd.read_csv('datasets/wastestats.csv')\n",
        "waste2019 = pd.read_csv('datasets/2018_2019_waste.csv')\n",
        "energy = pd.read_csv('datasets/energy_saved.csv')"
      ]
    },
    {
      "cell_type": "code",
      "execution_count": null,
      "metadata": {
        "dc": {
          "key": "4"
        },
        "id": "wSsHhMEvuRti",
        "outputId": "e3d4cd84-f524-47a2-ce9e-902f6d101802"
      },
      "outputs": [
        {
          "data": {
            "text/html": [
              "<div>\n",
              "<style scoped>\n",
              "    .dataframe tbody tr th:only-of-type {\n",
              "        vertical-align: middle;\n",
              "    }\n",
              "\n",
              "    .dataframe tbody tr th {\n",
              "        vertical-align: top;\n",
              "    }\n",
              "\n",
              "    .dataframe thead th {\n",
              "        text-align: right;\n",
              "    }\n",
              "</style>\n",
              "<table border=\"1\" class=\"dataframe\">\n",
              "  <thead>\n",
              "    <tr style=\"text-align: right;\">\n",
              "      <th></th>\n",
              "      <th>waste_type</th>\n",
              "      <th>waste_disposed_of_tonne</th>\n",
              "      <th>total_waste_recycled_tonne</th>\n",
              "      <th>total_waste_generated_tonne</th>\n",
              "      <th>recycling_rate</th>\n",
              "      <th>year</th>\n",
              "    </tr>\n",
              "  </thead>\n",
              "  <tbody>\n",
              "    <tr>\n",
              "      <th>0</th>\n",
              "      <td>Food</td>\n",
              "      <td>679900</td>\n",
              "      <td>111100.0</td>\n",
              "      <td>791000</td>\n",
              "      <td>0.14</td>\n",
              "      <td>2016</td>\n",
              "    </tr>\n",
              "    <tr>\n",
              "      <th>1</th>\n",
              "      <td>Paper/Cardboard</td>\n",
              "      <td>576000</td>\n",
              "      <td>607100.0</td>\n",
              "      <td>1183100</td>\n",
              "      <td>0.51</td>\n",
              "      <td>2016</td>\n",
              "    </tr>\n",
              "    <tr>\n",
              "      <th>2</th>\n",
              "      <td>Plastics</td>\n",
              "      <td>762700</td>\n",
              "      <td>59500.0</td>\n",
              "      <td>822200</td>\n",
              "      <td>0.07</td>\n",
              "      <td>2016</td>\n",
              "    </tr>\n",
              "    <tr>\n",
              "      <th>3</th>\n",
              "      <td>C&amp;D</td>\n",
              "      <td>9700</td>\n",
              "      <td>1585700.0</td>\n",
              "      <td>1595400</td>\n",
              "      <td>0.99</td>\n",
              "      <td>2016</td>\n",
              "    </tr>\n",
              "    <tr>\n",
              "      <th>4</th>\n",
              "      <td>Horticultural waste</td>\n",
              "      <td>111500</td>\n",
              "      <td>209000.0</td>\n",
              "      <td>320500</td>\n",
              "      <td>0.65</td>\n",
              "      <td>2016</td>\n",
              "    </tr>\n",
              "  </tbody>\n",
              "</table>\n",
              "</div>"
            ],
            "text/plain": [
              "            waste_type  waste_disposed_of_tonne  total_waste_recycled_tonne  \\\n",
              "0                 Food                   679900                    111100.0   \n",
              "1      Paper/Cardboard                   576000                    607100.0   \n",
              "2             Plastics                   762700                     59500.0   \n",
              "3                  C&D                     9700                   1585700.0   \n",
              "4  Horticultural waste                   111500                    209000.0   \n",
              "\n",
              "   total_waste_generated_tonne  recycling_rate  year  \n",
              "0                       791000            0.14  2016  \n",
              "1                      1183100            0.51  2016  \n",
              "2                       822200            0.07  2016  \n",
              "3                      1595400            0.99  2016  \n",
              "4                       320500            0.65  2016  "
            ]
          },
          "execution_count": 269,
          "metadata": {},
          "output_type": "execute_result"
        }
      ],
      "source": [
        "waste2017.head()"
      ]
    },
    {
      "cell_type": "code",
      "execution_count": null,
      "metadata": {
        "dc": {
          "key": "4"
        },
        "id": "Qekx73ivuRtn",
        "outputId": "6adb6d1c-9f8c-479d-f299-faf0adc78522"
      },
      "outputs": [
        {
          "name": "stdout",
          "output_type": "stream",
          "text": [
            "<class 'pandas.core.frame.DataFrame'>\n",
            "RangeIndex: 225 entries, 0 to 224\n",
            "Data columns (total 6 columns):\n",
            "waste_type                     225 non-null object\n",
            "waste_disposed_of_tonne        225 non-null int64\n",
            "total_waste_recycled_tonne     225 non-null float64\n",
            "total_waste_generated_tonne    225 non-null int64\n",
            "recycling_rate                 225 non-null float64\n",
            "year                           225 non-null int64\n",
            "dtypes: float64(2), int64(3), object(1)\n",
            "memory usage: 10.6+ KB\n"
          ]
        }
      ],
      "source": [
        "waste2017.info()"
      ]
    },
    {
      "cell_type": "code",
      "execution_count": null,
      "metadata": {
        "dc": {
          "key": "4"
        },
        "id": "SsHctQuuuRtp",
        "outputId": "c02d7f62-a39a-4f38-9bd6-0150b81ba2e8"
      },
      "outputs": [
        {
          "data": {
            "text/plain": [
              "array(['Food', 'Paper/Cardboard', 'Plastics', 'C&D',\n",
              "       'Horticultural waste', 'Wood', 'Ferrous metal',\n",
              "       'Non-ferrous metal', 'Used slag', 'Ash & Sludge', 'Glass',\n",
              "       'Textile/Leather', 'Scrap tyres',\n",
              "       'Others (stones, ceramics & rubber etc.)', 'Total',\n",
              "       'Others (stones, ceramics & rubber etc)', 'Food waste',\n",
              "       'Construction Debris', 'Wood/Timber', 'Horticultural Waste',\n",
              "       'Ferrous Metal', 'Non-ferrous Metals', 'Used Slag', 'Sludge',\n",
              "       'Scrap Tyres', 'Ferrous Metals', 'Others', 'Construction debris',\n",
              "       'Non-ferrous metals', 'Ash and sludge', 'Plastic',\n",
              "       'Others (stones, ceramic, rubber, etc.)'], dtype=object)"
            ]
          },
          "execution_count": 271,
          "metadata": {},
          "output_type": "execute_result"
        }
      ],
      "source": [
        "waste2017.waste_type.unique()"
      ]
    },
    {
      "cell_type": "code",
      "execution_count": null,
      "metadata": {
        "dc": {
          "key": "4"
        },
        "id": "QCjzGyhOuRtt"
      },
      "outputs": [],
      "source": [
        "waste2017['waste_type'].replace({'Non-ferrous metal':'Non-ferrous metal'},inplace=True)\n",
        "waste2017['waste_type'].replace({'Non-ferrous Metals':'Non-ferrous metal'},inplace=True)\n",
        "waste2017['waste_type'].replace({'Non-ferrous metals':'Non-ferrous metal'},inplace=True)"
      ]
    },
    {
      "cell_type": "code",
      "execution_count": null,
      "metadata": {
        "collapsed": true,
        "dc": {
          "key": "4"
        },
        "id": "SKp_OnJ3uRtz"
      },
      "outputs": [],
      "source": [
        "waste2017['waste_type'].replace({'Ferrous metal':'Ferrous metal'},inplace=True)\n",
        "waste2017['waste_type'].replace({'Ferrous Metal':'Ferrous metal'},inplace=True)\n",
        "waste2017['waste_type'].replace({'Ferrous Metals':'Ferrous metal'},inplace=True)"
      ]
    },
    {
      "cell_type": "code",
      "execution_count": null,
      "metadata": {
        "collapsed": true,
        "dc": {
          "key": "4"
        },
        "id": "v34Ln5m3uRt3"
      },
      "outputs": [],
      "source": [
        "waste2017 = waste2017[(waste2017['waste_type']=='Glass')|(waste2017['waste_type']=='Ferrous metal')|\n",
        "          (waste2017['waste_type']=='Non-ferrous metal')|(waste2017['waste_type']=='Plastics')]"
      ]
    },
    {
      "cell_type": "code",
      "execution_count": null,
      "metadata": {
        "dc": {
          "key": "4"
        },
        "id": "IHmaHqFNuRt5",
        "outputId": "1ef29181-789f-458a-842a-77cfe64237c4"
      },
      "outputs": [
        {
          "data": {
            "text/html": [
              "<div>\n",
              "<style scoped>\n",
              "    .dataframe tbody tr th:only-of-type {\n",
              "        vertical-align: middle;\n",
              "    }\n",
              "\n",
              "    .dataframe tbody tr th {\n",
              "        vertical-align: top;\n",
              "    }\n",
              "\n",
              "    .dataframe thead th {\n",
              "        text-align: right;\n",
              "    }\n",
              "</style>\n",
              "<table border=\"1\" class=\"dataframe\">\n",
              "  <thead>\n",
              "    <tr style=\"text-align: right;\">\n",
              "      <th></th>\n",
              "      <th>waste_type</th>\n",
              "      <th>waste_disposed_of_tonne</th>\n",
              "      <th>total_waste_recycled_tonne</th>\n",
              "      <th>total_waste_generated_tonne</th>\n",
              "      <th>recycling_rate</th>\n",
              "      <th>year</th>\n",
              "    </tr>\n",
              "  </thead>\n",
              "  <tbody>\n",
              "    <tr>\n",
              "      <th>2</th>\n",
              "      <td>Plastics</td>\n",
              "      <td>762700</td>\n",
              "      <td>59500.0</td>\n",
              "      <td>822200</td>\n",
              "      <td>0.07</td>\n",
              "      <td>2016</td>\n",
              "    </tr>\n",
              "    <tr>\n",
              "      <th>6</th>\n",
              "      <td>Ferrous metal</td>\n",
              "      <td>6000</td>\n",
              "      <td>1351500.0</td>\n",
              "      <td>1357500</td>\n",
              "      <td>0.99</td>\n",
              "      <td>2016</td>\n",
              "    </tr>\n",
              "    <tr>\n",
              "      <th>7</th>\n",
              "      <td>Non-ferrous metal</td>\n",
              "      <td>1300</td>\n",
              "      <td>95900.0</td>\n",
              "      <td>97200</td>\n",
              "      <td>0.99</td>\n",
              "      <td>2016</td>\n",
              "    </tr>\n",
              "    <tr>\n",
              "      <th>10</th>\n",
              "      <td>Glass</td>\n",
              "      <td>57600</td>\n",
              "      <td>14700.0</td>\n",
              "      <td>72300</td>\n",
              "      <td>0.20</td>\n",
              "      <td>2016</td>\n",
              "    </tr>\n",
              "    <tr>\n",
              "      <th>17</th>\n",
              "      <td>Plastics</td>\n",
              "      <td>766800</td>\n",
              "      <td>57800.0</td>\n",
              "      <td>824600</td>\n",
              "      <td>0.07</td>\n",
              "      <td>2015</td>\n",
              "    </tr>\n",
              "    <tr>\n",
              "      <th>21</th>\n",
              "      <td>Ferrous metal</td>\n",
              "      <td>15200</td>\n",
              "      <td>1333300.0</td>\n",
              "      <td>1348500</td>\n",
              "      <td>0.99</td>\n",
              "      <td>2015</td>\n",
              "    </tr>\n",
              "    <tr>\n",
              "      <th>22</th>\n",
              "      <td>Non-ferrous metal</td>\n",
              "      <td>19600</td>\n",
              "      <td>160400.0</td>\n",
              "      <td>180000</td>\n",
              "      <td>0.89</td>\n",
              "      <td>2015</td>\n",
              "    </tr>\n",
              "    <tr>\n",
              "      <th>25</th>\n",
              "      <td>Glass</td>\n",
              "      <td>60600</td>\n",
              "      <td>14600.0</td>\n",
              "      <td>75200</td>\n",
              "      <td>0.19</td>\n",
              "      <td>2015</td>\n",
              "    </tr>\n",
              "    <tr>\n",
              "      <th>32</th>\n",
              "      <td>Plastics</td>\n",
              "      <td>789000</td>\n",
              "      <td>80000.0</td>\n",
              "      <td>869000</td>\n",
              "      <td>0.09</td>\n",
              "      <td>2014</td>\n",
              "    </tr>\n",
              "    <tr>\n",
              "      <th>36</th>\n",
              "      <td>Ferrous metal</td>\n",
              "      <td>57000</td>\n",
              "      <td>1388900.0</td>\n",
              "      <td>1445900</td>\n",
              "      <td>0.96</td>\n",
              "      <td>2014</td>\n",
              "    </tr>\n",
              "    <tr>\n",
              "      <th>37</th>\n",
              "      <td>Non-ferrous metal</td>\n",
              "      <td>23700</td>\n",
              "      <td>94700.0</td>\n",
              "      <td>118400</td>\n",
              "      <td>0.80</td>\n",
              "      <td>2014</td>\n",
              "    </tr>\n",
              "    <tr>\n",
              "      <th>40</th>\n",
              "      <td>Glass</td>\n",
              "      <td>63800</td>\n",
              "      <td>15700.0</td>\n",
              "      <td>79500</td>\n",
              "      <td>0.20</td>\n",
              "      <td>2014</td>\n",
              "    </tr>\n",
              "    <tr>\n",
              "      <th>47</th>\n",
              "      <td>Plastics</td>\n",
              "      <td>741100</td>\n",
              "      <td>91100.0</td>\n",
              "      <td>832200</td>\n",
              "      <td>0.11</td>\n",
              "      <td>2013</td>\n",
              "    </tr>\n",
              "    <tr>\n",
              "      <th>51</th>\n",
              "      <td>Ferrous metal</td>\n",
              "      <td>46800</td>\n",
              "      <td>1369200.0</td>\n",
              "      <td>1416000</td>\n",
              "      <td>0.97</td>\n",
              "      <td>2013</td>\n",
              "    </tr>\n",
              "    <tr>\n",
              "      <th>52</th>\n",
              "      <td>Non-ferrous metal</td>\n",
              "      <td>21100</td>\n",
              "      <td>114000.0</td>\n",
              "      <td>135100</td>\n",
              "      <td>0.84</td>\n",
              "      <td>2013</td>\n",
              "    </tr>\n",
              "    <tr>\n",
              "      <th>55</th>\n",
              "      <td>Glass</td>\n",
              "      <td>58900</td>\n",
              "      <td>14600.0</td>\n",
              "      <td>73500</td>\n",
              "      <td>0.20</td>\n",
              "      <td>2013</td>\n",
              "    </tr>\n",
              "    <tr>\n",
              "      <th>62</th>\n",
              "      <td>Plastics</td>\n",
              "      <td>721300</td>\n",
              "      <td>82100.0</td>\n",
              "      <td>803400</td>\n",
              "      <td>0.10</td>\n",
              "      <td>2012</td>\n",
              "    </tr>\n",
              "    <tr>\n",
              "      <th>66</th>\n",
              "      <td>Ferrous metal</td>\n",
              "      <td>54800</td>\n",
              "      <td>1331200.0</td>\n",
              "      <td>1386000</td>\n",
              "      <td>0.96</td>\n",
              "      <td>2012</td>\n",
              "    </tr>\n",
              "    <tr>\n",
              "      <th>67</th>\n",
              "      <td>Non-ferrous metal</td>\n",
              "      <td>25200</td>\n",
              "      <td>97300.0</td>\n",
              "      <td>122500</td>\n",
              "      <td>0.79</td>\n",
              "      <td>2012</td>\n",
              "    </tr>\n",
              "    <tr>\n",
              "      <th>70</th>\n",
              "      <td>Glass</td>\n",
              "      <td>55400</td>\n",
              "      <td>19500.0</td>\n",
              "      <td>74900</td>\n",
              "      <td>0.26</td>\n",
              "      <td>2012</td>\n",
              "    </tr>\n",
              "    <tr>\n",
              "      <th>77</th>\n",
              "      <td>Plastics</td>\n",
              "      <td>656000</td>\n",
              "      <td>77000.0</td>\n",
              "      <td>733000</td>\n",
              "      <td>0.11</td>\n",
              "      <td>2011</td>\n",
              "    </tr>\n",
              "    <tr>\n",
              "      <th>81</th>\n",
              "      <td>Ferrous metal</td>\n",
              "      <td>67600</td>\n",
              "      <td>1171600.0</td>\n",
              "      <td>1239200</td>\n",
              "      <td>0.95</td>\n",
              "      <td>2011</td>\n",
              "    </tr>\n",
              "    <tr>\n",
              "      <th>82</th>\n",
              "      <td>Non-ferrous metal</td>\n",
              "      <td>14500</td>\n",
              "      <td>102800.0</td>\n",
              "      <td>117300</td>\n",
              "      <td>0.88</td>\n",
              "      <td>2011</td>\n",
              "    </tr>\n",
              "    <tr>\n",
              "      <th>85</th>\n",
              "      <td>Glass</td>\n",
              "      <td>51400</td>\n",
              "      <td>21400.0</td>\n",
              "      <td>72800</td>\n",
              "      <td>0.29</td>\n",
              "      <td>2011</td>\n",
              "    </tr>\n",
              "    <tr>\n",
              "      <th>92</th>\n",
              "      <td>Plastics</td>\n",
              "      <td>662300</td>\n",
              "      <td>78100.0</td>\n",
              "      <td>740400</td>\n",
              "      <td>0.11</td>\n",
              "      <td>2010</td>\n",
              "    </tr>\n",
              "    <tr>\n",
              "      <th>96</th>\n",
              "      <td>Ferrous metal</td>\n",
              "      <td>67100</td>\n",
              "      <td>1127500.0</td>\n",
              "      <td>1194600</td>\n",
              "      <td>0.94</td>\n",
              "      <td>2010</td>\n",
              "    </tr>\n",
              "    <tr>\n",
              "      <th>97</th>\n",
              "      <td>Non-ferrous metal</td>\n",
              "      <td>12400</td>\n",
              "      <td>73100.0</td>\n",
              "      <td>85500</td>\n",
              "      <td>0.85</td>\n",
              "      <td>2010</td>\n",
              "    </tr>\n",
              "    <tr>\n",
              "      <th>100</th>\n",
              "      <td>Glass</td>\n",
              "      <td>60700</td>\n",
              "      <td>19200.0</td>\n",
              "      <td>79900</td>\n",
              "      <td>0.24</td>\n",
              "      <td>2010</td>\n",
              "    </tr>\n",
              "    <tr>\n",
              "      <th>107</th>\n",
              "      <td>Plastics</td>\n",
              "      <td>628600</td>\n",
              "      <td>60300.0</td>\n",
              "      <td>688900</td>\n",
              "      <td>0.09</td>\n",
              "      <td>2009</td>\n",
              "    </tr>\n",
              "    <tr>\n",
              "      <th>111</th>\n",
              "      <td>Ferrous metal</td>\n",
              "      <td>65800</td>\n",
              "      <td>806200.0</td>\n",
              "      <td>872000</td>\n",
              "      <td>0.92</td>\n",
              "      <td>2009</td>\n",
              "    </tr>\n",
              "    <tr>\n",
              "      <th>112</th>\n",
              "      <td>Non-ferrous metal</td>\n",
              "      <td>10100</td>\n",
              "      <td>47500.0</td>\n",
              "      <td>57600</td>\n",
              "      <td>0.82</td>\n",
              "      <td>2009</td>\n",
              "    </tr>\n",
              "    <tr>\n",
              "      <th>115</th>\n",
              "      <td>Glass</td>\n",
              "      <td>57500</td>\n",
              "      <td>15600.0</td>\n",
              "      <td>73100</td>\n",
              "      <td>0.21</td>\n",
              "      <td>2009</td>\n",
              "    </tr>\n",
              "    <tr>\n",
              "      <th>122</th>\n",
              "      <td>Plastics</td>\n",
              "      <td>623200</td>\n",
              "      <td>61200.0</td>\n",
              "      <td>684400</td>\n",
              "      <td>0.09</td>\n",
              "      <td>2008</td>\n",
              "    </tr>\n",
              "    <tr>\n",
              "      <th>126</th>\n",
              "      <td>Ferrous metal</td>\n",
              "      <td>49800</td>\n",
              "      <td>735000.0</td>\n",
              "      <td>784800</td>\n",
              "      <td>0.94</td>\n",
              "      <td>2008</td>\n",
              "    </tr>\n",
              "    <tr>\n",
              "      <th>127</th>\n",
              "      <td>Non-ferrous metal</td>\n",
              "      <td>13000</td>\n",
              "      <td>72000.0</td>\n",
              "      <td>85000</td>\n",
              "      <td>0.85</td>\n",
              "      <td>2008</td>\n",
              "    </tr>\n",
              "    <tr>\n",
              "      <th>130</th>\n",
              "      <td>Glass</td>\n",
              "      <td>47100</td>\n",
              "      <td>10000.0</td>\n",
              "      <td>57100</td>\n",
              "      <td>0.18</td>\n",
              "      <td>2008</td>\n",
              "    </tr>\n",
              "    <tr>\n",
              "      <th>137</th>\n",
              "      <td>Plastics</td>\n",
              "      <td>584800</td>\n",
              "      <td>75000.0</td>\n",
              "      <td>659800</td>\n",
              "      <td>0.11</td>\n",
              "      <td>2007</td>\n",
              "    </tr>\n",
              "    <tr>\n",
              "      <th>141</th>\n",
              "      <td>Ferrous metal</td>\n",
              "      <td>68500</td>\n",
              "      <td>668000.0</td>\n",
              "      <td>736500</td>\n",
              "      <td>0.91</td>\n",
              "      <td>2007</td>\n",
              "    </tr>\n",
              "    <tr>\n",
              "      <th>142</th>\n",
              "      <td>Non-ferrous metal</td>\n",
              "      <td>16700</td>\n",
              "      <td>75600.0</td>\n",
              "      <td>92300</td>\n",
              "      <td>0.82</td>\n",
              "      <td>2007</td>\n",
              "    </tr>\n",
              "    <tr>\n",
              "      <th>145</th>\n",
              "      <td>Glass</td>\n",
              "      <td>59500</td>\n",
              "      <td>5800.0</td>\n",
              "      <td>65300</td>\n",
              "      <td>0.09</td>\n",
              "      <td>2007</td>\n",
              "    </tr>\n",
              "    <tr>\n",
              "      <th>152</th>\n",
              "      <td>Plastics</td>\n",
              "      <td>579000</td>\n",
              "      <td>77800.0</td>\n",
              "      <td>656800</td>\n",
              "      <td>0.12</td>\n",
              "      <td>2006</td>\n",
              "    </tr>\n",
              "    <tr>\n",
              "      <th>156</th>\n",
              "      <td>Ferrous metal</td>\n",
              "      <td>68500</td>\n",
              "      <td>657400.0</td>\n",
              "      <td>725900</td>\n",
              "      <td>0.91</td>\n",
              "      <td>2006</td>\n",
              "    </tr>\n",
              "    <tr>\n",
              "      <th>157</th>\n",
              "      <td>Non-ferrous metal</td>\n",
              "      <td>16000</td>\n",
              "      <td>70700.0</td>\n",
              "      <td>86700</td>\n",
              "      <td>0.82</td>\n",
              "      <td>2006</td>\n",
              "    </tr>\n",
              "    <tr>\n",
              "      <th>160</th>\n",
              "      <td>Glass</td>\n",
              "      <td>56600</td>\n",
              "      <td>6400.0</td>\n",
              "      <td>63000</td>\n",
              "      <td>0.10</td>\n",
              "      <td>2006</td>\n",
              "    </tr>\n",
              "    <tr>\n",
              "      <th>167</th>\n",
              "      <td>Plastics</td>\n",
              "      <td>588800</td>\n",
              "      <td>86000.0</td>\n",
              "      <td>674800</td>\n",
              "      <td>0.13</td>\n",
              "      <td>2005</td>\n",
              "    </tr>\n",
              "    <tr>\n",
              "      <th>171</th>\n",
              "      <td>Ferrous metal</td>\n",
              "      <td>69200</td>\n",
              "      <td>749100.0</td>\n",
              "      <td>818300</td>\n",
              "      <td>0.92</td>\n",
              "      <td>2005</td>\n",
              "    </tr>\n",
              "    <tr>\n",
              "      <th>172</th>\n",
              "      <td>Non-ferrous metal</td>\n",
              "      <td>14700</td>\n",
              "      <td>74700.0</td>\n",
              "      <td>89400</td>\n",
              "      <td>0.84</td>\n",
              "      <td>2005</td>\n",
              "    </tr>\n",
              "    <tr>\n",
              "      <th>175</th>\n",
              "      <td>Glass</td>\n",
              "      <td>58800</td>\n",
              "      <td>3800.0</td>\n",
              "      <td>62600</td>\n",
              "      <td>0.06</td>\n",
              "      <td>2005</td>\n",
              "    </tr>\n",
              "    <tr>\n",
              "      <th>182</th>\n",
              "      <td>Plastics</td>\n",
              "      <td>609000</td>\n",
              "      <td>74100.0</td>\n",
              "      <td>683100</td>\n",
              "      <td>0.11</td>\n",
              "      <td>2004</td>\n",
              "    </tr>\n",
              "    <tr>\n",
              "      <th>186</th>\n",
              "      <td>Ferrous metal</td>\n",
              "      <td>70300</td>\n",
              "      <td>649900.0</td>\n",
              "      <td>720200</td>\n",
              "      <td>0.90</td>\n",
              "      <td>2004</td>\n",
              "    </tr>\n",
              "    <tr>\n",
              "      <th>187</th>\n",
              "      <td>Non-ferrous metal</td>\n",
              "      <td>15100</td>\n",
              "      <td>71800.0</td>\n",
              "      <td>86900</td>\n",
              "      <td>0.83</td>\n",
              "      <td>2004</td>\n",
              "    </tr>\n",
              "    <tr>\n",
              "      <th>190</th>\n",
              "      <td>Glass</td>\n",
              "      <td>68700</td>\n",
              "      <td>4900.0</td>\n",
              "      <td>73600</td>\n",
              "      <td>0.07</td>\n",
              "      <td>2004</td>\n",
              "    </tr>\n",
              "    <tr>\n",
              "      <th>197</th>\n",
              "      <td>Plastics</td>\n",
              "      <td>540800</td>\n",
              "      <td>39100.0</td>\n",
              "      <td>579900</td>\n",
              "      <td>0.07</td>\n",
              "      <td>2003</td>\n",
              "    </tr>\n",
              "    <tr>\n",
              "      <th>201</th>\n",
              "      <td>Ferrous metal</td>\n",
              "      <td>57700</td>\n",
              "      <td>799000.0</td>\n",
              "      <td>856700</td>\n",
              "      <td>0.93</td>\n",
              "      <td>2003</td>\n",
              "    </tr>\n",
              "    <tr>\n",
              "      <th>202</th>\n",
              "      <td>Non-ferrous metal</td>\n",
              "      <td>18100</td>\n",
              "      <td>75800.0</td>\n",
              "      <td>93900</td>\n",
              "      <td>0.81</td>\n",
              "      <td>2003</td>\n",
              "    </tr>\n",
              "    <tr>\n",
              "      <th>205</th>\n",
              "      <td>Glass</td>\n",
              "      <td>59300</td>\n",
              "      <td>6200.0</td>\n",
              "      <td>65500</td>\n",
              "      <td>0.09</td>\n",
              "      <td>2003</td>\n",
              "    </tr>\n",
              "    <tr>\n",
              "      <th>211</th>\n",
              "      <td>Ferrous metal</td>\n",
              "      <td>7800</td>\n",
              "      <td>1371000.0</td>\n",
              "      <td>1378800</td>\n",
              "      <td>0.99</td>\n",
              "      <td>2017</td>\n",
              "    </tr>\n",
              "    <tr>\n",
              "      <th>213</th>\n",
              "      <td>Non-ferrous metal</td>\n",
              "      <td>1500</td>\n",
              "      <td>92200.0</td>\n",
              "      <td>93700</td>\n",
              "      <td>0.98</td>\n",
              "      <td>2017</td>\n",
              "    </tr>\n",
              "    <tr>\n",
              "      <th>218</th>\n",
              "      <td>Glass</td>\n",
              "      <td>58900</td>\n",
              "      <td>12400.0</td>\n",
              "      <td>71300</td>\n",
              "      <td>0.17</td>\n",
              "      <td>2017</td>\n",
              "    </tr>\n",
              "  </tbody>\n",
              "</table>\n",
              "</div>"
            ],
            "text/plain": [
              "            waste_type  waste_disposed_of_tonne  total_waste_recycled_tonne  \\\n",
              "2             Plastics                   762700                     59500.0   \n",
              "6        Ferrous metal                     6000                   1351500.0   \n",
              "7    Non-ferrous metal                     1300                     95900.0   \n",
              "10               Glass                    57600                     14700.0   \n",
              "17            Plastics                   766800                     57800.0   \n",
              "21       Ferrous metal                    15200                   1333300.0   \n",
              "22   Non-ferrous metal                    19600                    160400.0   \n",
              "25               Glass                    60600                     14600.0   \n",
              "32            Plastics                   789000                     80000.0   \n",
              "36       Ferrous metal                    57000                   1388900.0   \n",
              "37   Non-ferrous metal                    23700                     94700.0   \n",
              "40               Glass                    63800                     15700.0   \n",
              "47            Plastics                   741100                     91100.0   \n",
              "51       Ferrous metal                    46800                   1369200.0   \n",
              "52   Non-ferrous metal                    21100                    114000.0   \n",
              "55               Glass                    58900                     14600.0   \n",
              "62            Plastics                   721300                     82100.0   \n",
              "66       Ferrous metal                    54800                   1331200.0   \n",
              "67   Non-ferrous metal                    25200                     97300.0   \n",
              "70               Glass                    55400                     19500.0   \n",
              "77            Plastics                   656000                     77000.0   \n",
              "81       Ferrous metal                    67600                   1171600.0   \n",
              "82   Non-ferrous metal                    14500                    102800.0   \n",
              "85               Glass                    51400                     21400.0   \n",
              "92            Plastics                   662300                     78100.0   \n",
              "96       Ferrous metal                    67100                   1127500.0   \n",
              "97   Non-ferrous metal                    12400                     73100.0   \n",
              "100              Glass                    60700                     19200.0   \n",
              "107           Plastics                   628600                     60300.0   \n",
              "111      Ferrous metal                    65800                    806200.0   \n",
              "112  Non-ferrous metal                    10100                     47500.0   \n",
              "115              Glass                    57500                     15600.0   \n",
              "122           Plastics                   623200                     61200.0   \n",
              "126      Ferrous metal                    49800                    735000.0   \n",
              "127  Non-ferrous metal                    13000                     72000.0   \n",
              "130              Glass                    47100                     10000.0   \n",
              "137           Plastics                   584800                     75000.0   \n",
              "141      Ferrous metal                    68500                    668000.0   \n",
              "142  Non-ferrous metal                    16700                     75600.0   \n",
              "145              Glass                    59500                      5800.0   \n",
              "152           Plastics                   579000                     77800.0   \n",
              "156      Ferrous metal                    68500                    657400.0   \n",
              "157  Non-ferrous metal                    16000                     70700.0   \n",
              "160              Glass                    56600                      6400.0   \n",
              "167           Plastics                   588800                     86000.0   \n",
              "171      Ferrous metal                    69200                    749100.0   \n",
              "172  Non-ferrous metal                    14700                     74700.0   \n",
              "175              Glass                    58800                      3800.0   \n",
              "182           Plastics                   609000                     74100.0   \n",
              "186      Ferrous metal                    70300                    649900.0   \n",
              "187  Non-ferrous metal                    15100                     71800.0   \n",
              "190              Glass                    68700                      4900.0   \n",
              "197           Plastics                   540800                     39100.0   \n",
              "201      Ferrous metal                    57700                    799000.0   \n",
              "202  Non-ferrous metal                    18100                     75800.0   \n",
              "205              Glass                    59300                      6200.0   \n",
              "211      Ferrous metal                     7800                   1371000.0   \n",
              "213  Non-ferrous metal                     1500                     92200.0   \n",
              "218              Glass                    58900                     12400.0   \n",
              "\n",
              "     total_waste_generated_tonne  recycling_rate  year  \n",
              "2                         822200            0.07  2016  \n",
              "6                        1357500            0.99  2016  \n",
              "7                          97200            0.99  2016  \n",
              "10                         72300            0.20  2016  \n",
              "17                        824600            0.07  2015  \n",
              "21                       1348500            0.99  2015  \n",
              "22                        180000            0.89  2015  \n",
              "25                         75200            0.19  2015  \n",
              "32                        869000            0.09  2014  \n",
              "36                       1445900            0.96  2014  \n",
              "37                        118400            0.80  2014  \n",
              "40                         79500            0.20  2014  \n",
              "47                        832200            0.11  2013  \n",
              "51                       1416000            0.97  2013  \n",
              "52                        135100            0.84  2013  \n",
              "55                         73500            0.20  2013  \n",
              "62                        803400            0.10  2012  \n",
              "66                       1386000            0.96  2012  \n",
              "67                        122500            0.79  2012  \n",
              "70                         74900            0.26  2012  \n",
              "77                        733000            0.11  2011  \n",
              "81                       1239200            0.95  2011  \n",
              "82                        117300            0.88  2011  \n",
              "85                         72800            0.29  2011  \n",
              "92                        740400            0.11  2010  \n",
              "96                       1194600            0.94  2010  \n",
              "97                         85500            0.85  2010  \n",
              "100                        79900            0.24  2010  \n",
              "107                       688900            0.09  2009  \n",
              "111                       872000            0.92  2009  \n",
              "112                        57600            0.82  2009  \n",
              "115                        73100            0.21  2009  \n",
              "122                       684400            0.09  2008  \n",
              "126                       784800            0.94  2008  \n",
              "127                        85000            0.85  2008  \n",
              "130                        57100            0.18  2008  \n",
              "137                       659800            0.11  2007  \n",
              "141                       736500            0.91  2007  \n",
              "142                        92300            0.82  2007  \n",
              "145                        65300            0.09  2007  \n",
              "152                       656800            0.12  2006  \n",
              "156                       725900            0.91  2006  \n",
              "157                        86700            0.82  2006  \n",
              "160                        63000            0.10  2006  \n",
              "167                       674800            0.13  2005  \n",
              "171                       818300            0.92  2005  \n",
              "172                        89400            0.84  2005  \n",
              "175                        62600            0.06  2005  \n",
              "182                       683100            0.11  2004  \n",
              "186                       720200            0.90  2004  \n",
              "187                        86900            0.83  2004  \n",
              "190                        73600            0.07  2004  \n",
              "197                       579900            0.07  2003  \n",
              "201                       856700            0.93  2003  \n",
              "202                        93900            0.81  2003  \n",
              "205                        65500            0.09  2003  \n",
              "211                      1378800            0.99  2017  \n",
              "213                        93700            0.98  2017  \n",
              "218                        71300            0.17  2017  "
            ]
          },
          "execution_count": 275,
          "metadata": {},
          "output_type": "execute_result"
        }
      ],
      "source": [
        "waste2017"
      ]
    },
    {
      "cell_type": "code",
      "execution_count": null,
      "metadata": {
        "collapsed": true,
        "dc": {
          "key": "4"
        },
        "id": "K0E6ertSuRt7"
      },
      "outputs": [],
      "source": [
        "waste2017 = waste2017[waste2017['year']>2014]"
      ]
    },
    {
      "cell_type": "code",
      "execution_count": null,
      "metadata": {
        "dc": {
          "key": "4"
        },
        "id": "uZLOtO2UuRt9",
        "outputId": "01edd9f7-76da-45b6-9d5c-9eab85b66bbc"
      },
      "outputs": [
        {
          "data": {
            "text/html": [
              "<div>\n",
              "<style scoped>\n",
              "    .dataframe tbody tr th:only-of-type {\n",
              "        vertical-align: middle;\n",
              "    }\n",
              "\n",
              "    .dataframe tbody tr th {\n",
              "        vertical-align: top;\n",
              "    }\n",
              "\n",
              "    .dataframe thead th {\n",
              "        text-align: right;\n",
              "    }\n",
              "</style>\n",
              "<table border=\"1\" class=\"dataframe\">\n",
              "  <thead>\n",
              "    <tr style=\"text-align: right;\">\n",
              "      <th></th>\n",
              "      <th>year</th>\n",
              "      <th>waste_type</th>\n",
              "      <th>total_waste_recycled_tonne</th>\n",
              "    </tr>\n",
              "  </thead>\n",
              "  <tbody>\n",
              "    <tr>\n",
              "      <th>0</th>\n",
              "      <td>2015</td>\n",
              "      <td>Ferrous metal</td>\n",
              "      <td>1333300.0</td>\n",
              "    </tr>\n",
              "    <tr>\n",
              "      <th>1</th>\n",
              "      <td>2015</td>\n",
              "      <td>Glass</td>\n",
              "      <td>14600.0</td>\n",
              "    </tr>\n",
              "    <tr>\n",
              "      <th>2</th>\n",
              "      <td>2015</td>\n",
              "      <td>Non-ferrous metal</td>\n",
              "      <td>160400.0</td>\n",
              "    </tr>\n",
              "    <tr>\n",
              "      <th>3</th>\n",
              "      <td>2015</td>\n",
              "      <td>Plastics</td>\n",
              "      <td>57800.0</td>\n",
              "    </tr>\n",
              "    <tr>\n",
              "      <th>4</th>\n",
              "      <td>2016</td>\n",
              "      <td>Ferrous metal</td>\n",
              "      <td>1351500.0</td>\n",
              "    </tr>\n",
              "    <tr>\n",
              "      <th>5</th>\n",
              "      <td>2016</td>\n",
              "      <td>Glass</td>\n",
              "      <td>14700.0</td>\n",
              "    </tr>\n",
              "    <tr>\n",
              "      <th>6</th>\n",
              "      <td>2016</td>\n",
              "      <td>Non-ferrous metal</td>\n",
              "      <td>95900.0</td>\n",
              "    </tr>\n",
              "    <tr>\n",
              "      <th>7</th>\n",
              "      <td>2016</td>\n",
              "      <td>Plastics</td>\n",
              "      <td>59500.0</td>\n",
              "    </tr>\n",
              "    <tr>\n",
              "      <th>8</th>\n",
              "      <td>2017</td>\n",
              "      <td>Ferrous metal</td>\n",
              "      <td>1371000.0</td>\n",
              "    </tr>\n",
              "    <tr>\n",
              "      <th>9</th>\n",
              "      <td>2017</td>\n",
              "      <td>Glass</td>\n",
              "      <td>12400.0</td>\n",
              "    </tr>\n",
              "    <tr>\n",
              "      <th>10</th>\n",
              "      <td>2017</td>\n",
              "      <td>Non-ferrous metal</td>\n",
              "      <td>92200.0</td>\n",
              "    </tr>\n",
              "  </tbody>\n",
              "</table>\n",
              "</div>"
            ],
            "text/plain": [
              "    year         waste_type  total_waste_recycled_tonne\n",
              "0   2015      Ferrous metal                   1333300.0\n",
              "1   2015              Glass                     14600.0\n",
              "2   2015  Non-ferrous metal                    160400.0\n",
              "3   2015           Plastics                     57800.0\n",
              "4   2016      Ferrous metal                   1351500.0\n",
              "5   2016              Glass                     14700.0\n",
              "6   2016  Non-ferrous metal                     95900.0\n",
              "7   2016           Plastics                     59500.0\n",
              "8   2017      Ferrous metal                   1371000.0\n",
              "9   2017              Glass                     12400.0\n",
              "10  2017  Non-ferrous metal                     92200.0"
            ]
          },
          "execution_count": 277,
          "metadata": {},
          "output_type": "execute_result"
        }
      ],
      "source": [
        "recycled = (pd.DataFrame(waste2017.groupby(['year','waste_type'])['total_waste_recycled_tonne'].sum())).reset_index()\n",
        "recycled "
      ]
    },
    {
      "cell_type": "code",
      "execution_count": null,
      "metadata": {
        "dc": {
          "key": "4"
        },
        "id": "bmx5AxqcuRt_",
        "outputId": "901cfa99-ed11-4e01-abd4-c47b6ac48295"
      },
      "outputs": [
        {
          "data": {
            "text/html": [
              "<div>\n",
              "<style scoped>\n",
              "    .dataframe tbody tr th:only-of-type {\n",
              "        vertical-align: middle;\n",
              "    }\n",
              "\n",
              "    .dataframe tbody tr th {\n",
              "        vertical-align: top;\n",
              "    }\n",
              "\n",
              "    .dataframe thead th {\n",
              "        text-align: right;\n",
              "    }\n",
              "</style>\n",
              "<table border=\"1\" class=\"dataframe\">\n",
              "  <thead>\n",
              "    <tr style=\"text-align: right;\">\n",
              "      <th></th>\n",
              "      <th>Waste Type</th>\n",
              "      <th>Total Generated ('000 tonnes)</th>\n",
              "      <th>Total Recycled ('000 tonnes)</th>\n",
              "      <th>Year</th>\n",
              "    </tr>\n",
              "  </thead>\n",
              "  <tbody>\n",
              "    <tr>\n",
              "      <th>0</th>\n",
              "      <td>Construction&amp; Demolition</td>\n",
              "      <td>1440</td>\n",
              "      <td>1434</td>\n",
              "      <td>2019</td>\n",
              "    </tr>\n",
              "    <tr>\n",
              "      <th>1</th>\n",
              "      <td>Ferrous Metal</td>\n",
              "      <td>1278</td>\n",
              "      <td>1270</td>\n",
              "      <td>2019</td>\n",
              "    </tr>\n",
              "    <tr>\n",
              "      <th>2</th>\n",
              "      <td>Paper/Cardboard</td>\n",
              "      <td>1011</td>\n",
              "      <td>449</td>\n",
              "      <td>2019</td>\n",
              "    </tr>\n",
              "    <tr>\n",
              "      <th>3</th>\n",
              "      <td>Plastics</td>\n",
              "      <td>930</td>\n",
              "      <td>37</td>\n",
              "      <td>2019</td>\n",
              "    </tr>\n",
              "    <tr>\n",
              "      <th>4</th>\n",
              "      <td>Food</td>\n",
              "      <td>7440</td>\n",
              "      <td>136</td>\n",
              "      <td>2019</td>\n",
              "    </tr>\n",
              "  </tbody>\n",
              "</table>\n",
              "</div>"
            ],
            "text/plain": [
              "                 Waste Type  Total Generated ('000 tonnes)  \\\n",
              "0  Construction& Demolition                           1440   \n",
              "1             Ferrous Metal                           1278   \n",
              "2           Paper/Cardboard                           1011   \n",
              "3                  Plastics                            930   \n",
              "4                      Food                           7440   \n",
              "\n",
              "   Total Recycled ('000 tonnes)  Year  \n",
              "0                          1434  2019  \n",
              "1                          1270  2019  \n",
              "2                           449  2019  \n",
              "3                            37  2019  \n",
              "4                           136  2019  "
            ]
          },
          "execution_count": 278,
          "metadata": {},
          "output_type": "execute_result"
        }
      ],
      "source": [
        "waste2019.head()"
      ]
    },
    {
      "cell_type": "code",
      "execution_count": null,
      "metadata": {
        "dc": {
          "key": "4"
        },
        "id": "zk2NJGvmuRuB",
        "outputId": "703d6546-6f76-4979-8b97-85badf54625a"
      },
      "outputs": [
        {
          "data": {
            "text/plain": [
              "array(['Construction& Demolition', 'Ferrous Metal', 'Paper/Cardboard',\n",
              "       'Plastics', 'Food', 'Wood', 'Horticultural', 'Ash & Sludge',\n",
              "       'Textile/Leather', 'Used Slag', 'Non-Ferrous Metal', 'Glass',\n",
              "       'Scrap Tyres', 'Others (stones, ceramic, rubber, ect)', 'Overall'],\n",
              "      dtype=object)"
            ]
          },
          "execution_count": 279,
          "metadata": {},
          "output_type": "execute_result"
        }
      ],
      "source": [
        "waste2019['Waste Type'].unique()"
      ]
    },
    {
      "cell_type": "code",
      "execution_count": null,
      "metadata": {
        "collapsed": true,
        "dc": {
          "key": "4"
        },
        "id": "dJ1FKN8PuRuC"
      },
      "outputs": [],
      "source": [
        "waste2019['Waste Type'] = waste2019['Waste Type'].replace({'Ferrous Metal':'Ferrous metal'})\n",
        "waste2019['Waste Type'] = waste2019['Waste Type'].replace({'Non-Ferrous Metal':'Non-ferrous metal'})"
      ]
    },
    {
      "cell_type": "code",
      "execution_count": null,
      "metadata": {
        "dc": {
          "key": "4"
        },
        "id": "KbsoHZ-8uRuD",
        "outputId": "0e9f3397-743d-45a7-95da-01f86a9eff04"
      },
      "outputs": [
        {
          "data": {
            "text/plain": [
              "array(['Construction& Demolition', 'Ferrous metal', 'Paper/Cardboard',\n",
              "       'Plastics', 'Food', 'Wood', 'Horticultural', 'Ash & Sludge',\n",
              "       'Textile/Leather', 'Used Slag', 'Non-ferrous metal', 'Glass',\n",
              "       'Scrap Tyres', 'Others (stones, ceramic, rubber, ect)', 'Overall'],\n",
              "      dtype=object)"
            ]
          },
          "execution_count": 253,
          "metadata": {},
          "output_type": "execute_result"
        }
      ],
      "source": [
        "waste2019['Waste Type'].unique()"
      ]
    },
    {
      "cell_type": "code",
      "execution_count": null,
      "metadata": {
        "collapsed": true,
        "dc": {
          "key": "4"
        },
        "id": "6t0EN3PbuRuF"
      },
      "outputs": [],
      "source": [
        "waste2019 = waste2019[(waste2019['Waste Type']=='Glass')|(waste2019['Waste Type']=='Ferrous metal')|\n",
        "          (waste2019['Waste Type']=='Non-ferrous metal')|(waste2019['Waste Type']=='Plastics')]"
      ]
    },
    {
      "cell_type": "code",
      "execution_count": null,
      "metadata": {
        "dc": {
          "key": "4"
        },
        "id": "Iv5Nd2b3uRuH",
        "outputId": "bcf0d625-1848-4991-fd58-b697c0de7c46"
      },
      "outputs": [
        {
          "data": {
            "text/html": [
              "<div>\n",
              "<style scoped>\n",
              "    .dataframe tbody tr th:only-of-type {\n",
              "        vertical-align: middle;\n",
              "    }\n",
              "\n",
              "    .dataframe tbody tr th {\n",
              "        vertical-align: top;\n",
              "    }\n",
              "\n",
              "    .dataframe thead th {\n",
              "        text-align: right;\n",
              "    }\n",
              "</style>\n",
              "<table border=\"1\" class=\"dataframe\">\n",
              "  <thead>\n",
              "    <tr style=\"text-align: right;\">\n",
              "      <th></th>\n",
              "      <th>Waste Type</th>\n",
              "      <th>Total Generated ('000 tonnes)</th>\n",
              "      <th>Total Recycled ('000 tonnes)</th>\n",
              "      <th>Year</th>\n",
              "    </tr>\n",
              "  </thead>\n",
              "  <tbody>\n",
              "    <tr>\n",
              "      <th>1</th>\n",
              "      <td>Ferrous metal</td>\n",
              "      <td>1278</td>\n",
              "      <td>1270000</td>\n",
              "      <td>2019</td>\n",
              "    </tr>\n",
              "    <tr>\n",
              "      <th>3</th>\n",
              "      <td>Plastics</td>\n",
              "      <td>930</td>\n",
              "      <td>37000</td>\n",
              "      <td>2019</td>\n",
              "    </tr>\n",
              "    <tr>\n",
              "      <th>10</th>\n",
              "      <td>Non-ferrous metal</td>\n",
              "      <td>126</td>\n",
              "      <td>124000</td>\n",
              "      <td>2019</td>\n",
              "    </tr>\n",
              "    <tr>\n",
              "      <th>11</th>\n",
              "      <td>Glass</td>\n",
              "      <td>75</td>\n",
              "      <td>11000</td>\n",
              "      <td>2019</td>\n",
              "    </tr>\n",
              "    <tr>\n",
              "      <th>16</th>\n",
              "      <td>Ferrous metal</td>\n",
              "      <td>1269</td>\n",
              "      <td>126000</td>\n",
              "      <td>2018</td>\n",
              "    </tr>\n",
              "    <tr>\n",
              "      <th>18</th>\n",
              "      <td>Plastics</td>\n",
              "      <td>949</td>\n",
              "      <td>41000</td>\n",
              "      <td>2018</td>\n",
              "    </tr>\n",
              "    <tr>\n",
              "      <th>25</th>\n",
              "      <td>Non-ferrous metal</td>\n",
              "      <td>171</td>\n",
              "      <td>170000</td>\n",
              "      <td>2018</td>\n",
              "    </tr>\n",
              "    <tr>\n",
              "      <th>26</th>\n",
              "      <td>Glass</td>\n",
              "      <td>64</td>\n",
              "      <td>12000</td>\n",
              "      <td>2018</td>\n",
              "    </tr>\n",
              "  </tbody>\n",
              "</table>\n",
              "</div>"
            ],
            "text/plain": [
              "           Waste Type  Total Generated ('000 tonnes)  \\\n",
              "1       Ferrous metal                           1278   \n",
              "3            Plastics                            930   \n",
              "10  Non-ferrous metal                            126   \n",
              "11              Glass                             75   \n",
              "16      Ferrous metal                           1269   \n",
              "18           Plastics                            949   \n",
              "25  Non-ferrous metal                            171   \n",
              "26              Glass                             64   \n",
              "\n",
              "    Total Recycled ('000 tonnes)  Year  \n",
              "1                        1270000  2019  \n",
              "3                          37000  2019  \n",
              "10                        124000  2019  \n",
              "11                         11000  2019  \n",
              "16                        126000  2018  \n",
              "18                         41000  2018  \n",
              "25                        170000  2018  \n",
              "26                         12000  2018  "
            ]
          },
          "execution_count": 255,
          "metadata": {},
          "output_type": "execute_result"
        }
      ],
      "source": [
        "waste2019['Total Recycled (\\'000 tonnes)'] = waste2019['Total Recycled (\\'000 tonnes)'] * 1000\n",
        "waste2019"
      ]
    },
    {
      "cell_type": "code",
      "execution_count": null,
      "metadata": {
        "dc": {
          "key": "4"
        },
        "id": "Kk5ZRAZ3uRuK",
        "outputId": "3bf1338b-e9d8-4b4b-f3c2-73251a0c8a8e"
      },
      "outputs": [
        {
          "data": {
            "text/html": [
              "<div>\n",
              "<style scoped>\n",
              "    .dataframe tbody tr th:only-of-type {\n",
              "        vertical-align: middle;\n",
              "    }\n",
              "\n",
              "    .dataframe tbody tr th {\n",
              "        vertical-align: top;\n",
              "    }\n",
              "\n",
              "    .dataframe thead th {\n",
              "        text-align: right;\n",
              "    }\n",
              "</style>\n",
              "<table border=\"1\" class=\"dataframe\">\n",
              "  <thead>\n",
              "    <tr style=\"text-align: right;\">\n",
              "      <th></th>\n",
              "      <th>year</th>\n",
              "      <th>Waste Type</th>\n",
              "      <th>Total Recycled</th>\n",
              "    </tr>\n",
              "  </thead>\n",
              "  <tbody>\n",
              "    <tr>\n",
              "      <th>0</th>\n",
              "      <td>2015</td>\n",
              "      <td>Ferrous metal</td>\n",
              "      <td>1333300.0</td>\n",
              "    </tr>\n",
              "    <tr>\n",
              "      <th>1</th>\n",
              "      <td>2015</td>\n",
              "      <td>Glass</td>\n",
              "      <td>14600.0</td>\n",
              "    </tr>\n",
              "    <tr>\n",
              "      <th>2</th>\n",
              "      <td>2015</td>\n",
              "      <td>Non-ferrous metal</td>\n",
              "      <td>160400.0</td>\n",
              "    </tr>\n",
              "    <tr>\n",
              "      <th>3</th>\n",
              "      <td>2015</td>\n",
              "      <td>Plastics</td>\n",
              "      <td>57800.0</td>\n",
              "    </tr>\n",
              "    <tr>\n",
              "      <th>4</th>\n",
              "      <td>2016</td>\n",
              "      <td>Ferrous metal</td>\n",
              "      <td>1351500.0</td>\n",
              "    </tr>\n",
              "    <tr>\n",
              "      <th>5</th>\n",
              "      <td>2016</td>\n",
              "      <td>Glass</td>\n",
              "      <td>14700.0</td>\n",
              "    </tr>\n",
              "    <tr>\n",
              "      <th>6</th>\n",
              "      <td>2016</td>\n",
              "      <td>Non-ferrous metal</td>\n",
              "      <td>95900.0</td>\n",
              "    </tr>\n",
              "    <tr>\n",
              "      <th>7</th>\n",
              "      <td>2016</td>\n",
              "      <td>Plastics</td>\n",
              "      <td>59500.0</td>\n",
              "    </tr>\n",
              "    <tr>\n",
              "      <th>8</th>\n",
              "      <td>2017</td>\n",
              "      <td>Ferrous metal</td>\n",
              "      <td>1371000.0</td>\n",
              "    </tr>\n",
              "    <tr>\n",
              "      <th>9</th>\n",
              "      <td>2017</td>\n",
              "      <td>Glass</td>\n",
              "      <td>12400.0</td>\n",
              "    </tr>\n",
              "    <tr>\n",
              "      <th>10</th>\n",
              "      <td>2017</td>\n",
              "      <td>Non-ferrous metal</td>\n",
              "      <td>92200.0</td>\n",
              "    </tr>\n",
              "  </tbody>\n",
              "</table>\n",
              "</div>"
            ],
            "text/plain": [
              "    year         Waste Type  Total Recycled\n",
              "0   2015      Ferrous metal       1333300.0\n",
              "1   2015              Glass         14600.0\n",
              "2   2015  Non-ferrous metal        160400.0\n",
              "3   2015           Plastics         57800.0\n",
              "4   2016      Ferrous metal       1351500.0\n",
              "5   2016              Glass         14700.0\n",
              "6   2016  Non-ferrous metal         95900.0\n",
              "7   2016           Plastics         59500.0\n",
              "8   2017      Ferrous metal       1371000.0\n",
              "9   2017              Glass         12400.0\n",
              "10  2017  Non-ferrous metal         92200.0"
            ]
          },
          "execution_count": 256,
          "metadata": {},
          "output_type": "execute_result"
        }
      ],
      "source": [
        "recycled.columns = ['year', 'Waste Type','Total Recycled']\n",
        "recycled"
      ]
    },
    {
      "cell_type": "code",
      "execution_count": null,
      "metadata": {
        "dc": {
          "key": "4"
        },
        "id": "Nye00gGvuRuM",
        "outputId": "e4281ad8-9bd9-4768-acbe-f8be2019a0ca"
      },
      "outputs": [
        {
          "data": {
            "text/html": [
              "<div>\n",
              "<style scoped>\n",
              "    .dataframe tbody tr th:only-of-type {\n",
              "        vertical-align: middle;\n",
              "    }\n",
              "\n",
              "    .dataframe tbody tr th {\n",
              "        vertical-align: top;\n",
              "    }\n",
              "\n",
              "    .dataframe thead th {\n",
              "        text-align: right;\n",
              "    }\n",
              "</style>\n",
              "<table border=\"1\" class=\"dataframe\">\n",
              "  <thead>\n",
              "    <tr style=\"text-align: right;\">\n",
              "      <th></th>\n",
              "      <th>year</th>\n",
              "      <th>Waste Type</th>\n",
              "      <th>Total Recycled</th>\n",
              "    </tr>\n",
              "  </thead>\n",
              "  <tbody>\n",
              "    <tr>\n",
              "      <th>0</th>\n",
              "      <td>2018</td>\n",
              "      <td>Ferrous metal</td>\n",
              "      <td>126000</td>\n",
              "    </tr>\n",
              "    <tr>\n",
              "      <th>1</th>\n",
              "      <td>2018</td>\n",
              "      <td>Glass</td>\n",
              "      <td>12000</td>\n",
              "    </tr>\n",
              "    <tr>\n",
              "      <th>2</th>\n",
              "      <td>2018</td>\n",
              "      <td>Non-ferrous metal</td>\n",
              "      <td>170000</td>\n",
              "    </tr>\n",
              "    <tr>\n",
              "      <th>3</th>\n",
              "      <td>2018</td>\n",
              "      <td>Plastics</td>\n",
              "      <td>41000</td>\n",
              "    </tr>\n",
              "    <tr>\n",
              "      <th>4</th>\n",
              "      <td>2019</td>\n",
              "      <td>Ferrous metal</td>\n",
              "      <td>1270000</td>\n",
              "    </tr>\n",
              "    <tr>\n",
              "      <th>5</th>\n",
              "      <td>2019</td>\n",
              "      <td>Glass</td>\n",
              "      <td>11000</td>\n",
              "    </tr>\n",
              "    <tr>\n",
              "      <th>6</th>\n",
              "      <td>2019</td>\n",
              "      <td>Non-ferrous metal</td>\n",
              "      <td>124000</td>\n",
              "    </tr>\n",
              "    <tr>\n",
              "      <th>7</th>\n",
              "      <td>2019</td>\n",
              "      <td>Plastics</td>\n",
              "      <td>37000</td>\n",
              "    </tr>\n",
              "  </tbody>\n",
              "</table>\n",
              "</div>"
            ],
            "text/plain": [
              "   year         Waste Type  Total Recycled\n",
              "0  2018      Ferrous metal          126000\n",
              "1  2018              Glass           12000\n",
              "2  2018  Non-ferrous metal          170000\n",
              "3  2018           Plastics           41000\n",
              "4  2019      Ferrous metal         1270000\n",
              "5  2019              Glass           11000\n",
              "6  2019  Non-ferrous metal          124000\n",
              "7  2019           Plastics           37000"
            ]
          },
          "execution_count": 257,
          "metadata": {},
          "output_type": "execute_result"
        }
      ],
      "source": [
        "recycled2 = (pd.DataFrame(waste2019.groupby(['Year','Waste Type'])['Total Recycled (\\'000 tonnes)'].sum())).reset_index()\n",
        "recycled2.columns = ['year', 'Waste Type','Total Recycled']\n",
        "recycled2"
      ]
    },
    {
      "cell_type": "code",
      "execution_count": null,
      "metadata": {
        "dc": {
          "key": "4"
        },
        "id": "gPOec8nauRuP",
        "outputId": "26416e06-8eb1-480e-a6b3-69dbb376b656"
      },
      "outputs": [
        {
          "data": {
            "text/html": [
              "<div>\n",
              "<style scoped>\n",
              "    .dataframe tbody tr th:only-of-type {\n",
              "        vertical-align: middle;\n",
              "    }\n",
              "\n",
              "    .dataframe tbody tr th {\n",
              "        vertical-align: top;\n",
              "    }\n",
              "\n",
              "    .dataframe thead th {\n",
              "        text-align: right;\n",
              "    }\n",
              "</style>\n",
              "<table border=\"1\" class=\"dataframe\">\n",
              "  <thead>\n",
              "    <tr style=\"text-align: right;\">\n",
              "      <th></th>\n",
              "      <th>year</th>\n",
              "      <th>Waste Type</th>\n",
              "      <th>Total Recycled</th>\n",
              "    </tr>\n",
              "  </thead>\n",
              "  <tbody>\n",
              "    <tr>\n",
              "      <th>0</th>\n",
              "      <td>2015</td>\n",
              "      <td>Ferrous metal</td>\n",
              "      <td>1333300.0</td>\n",
              "    </tr>\n",
              "    <tr>\n",
              "      <th>1</th>\n",
              "      <td>2015</td>\n",
              "      <td>Glass</td>\n",
              "      <td>14600.0</td>\n",
              "    </tr>\n",
              "    <tr>\n",
              "      <th>2</th>\n",
              "      <td>2015</td>\n",
              "      <td>Non-ferrous metal</td>\n",
              "      <td>160400.0</td>\n",
              "    </tr>\n",
              "    <tr>\n",
              "      <th>3</th>\n",
              "      <td>2015</td>\n",
              "      <td>Plastics</td>\n",
              "      <td>57800.0</td>\n",
              "    </tr>\n",
              "    <tr>\n",
              "      <th>4</th>\n",
              "      <td>2016</td>\n",
              "      <td>Ferrous metal</td>\n",
              "      <td>1351500.0</td>\n",
              "    </tr>\n",
              "    <tr>\n",
              "      <th>5</th>\n",
              "      <td>2016</td>\n",
              "      <td>Glass</td>\n",
              "      <td>14700.0</td>\n",
              "    </tr>\n",
              "    <tr>\n",
              "      <th>6</th>\n",
              "      <td>2016</td>\n",
              "      <td>Non-ferrous metal</td>\n",
              "      <td>95900.0</td>\n",
              "    </tr>\n",
              "    <tr>\n",
              "      <th>7</th>\n",
              "      <td>2016</td>\n",
              "      <td>Plastics</td>\n",
              "      <td>59500.0</td>\n",
              "    </tr>\n",
              "    <tr>\n",
              "      <th>8</th>\n",
              "      <td>2017</td>\n",
              "      <td>Ferrous metal</td>\n",
              "      <td>1371000.0</td>\n",
              "    </tr>\n",
              "    <tr>\n",
              "      <th>9</th>\n",
              "      <td>2017</td>\n",
              "      <td>Glass</td>\n",
              "      <td>12400.0</td>\n",
              "    </tr>\n",
              "    <tr>\n",
              "      <th>10</th>\n",
              "      <td>2017</td>\n",
              "      <td>Non-ferrous metal</td>\n",
              "      <td>92200.0</td>\n",
              "    </tr>\n",
              "    <tr>\n",
              "      <th>11</th>\n",
              "      <td>2018</td>\n",
              "      <td>Ferrous metal</td>\n",
              "      <td>126000.0</td>\n",
              "    </tr>\n",
              "    <tr>\n",
              "      <th>12</th>\n",
              "      <td>2018</td>\n",
              "      <td>Glass</td>\n",
              "      <td>12000.0</td>\n",
              "    </tr>\n",
              "    <tr>\n",
              "      <th>13</th>\n",
              "      <td>2018</td>\n",
              "      <td>Non-ferrous metal</td>\n",
              "      <td>170000.0</td>\n",
              "    </tr>\n",
              "    <tr>\n",
              "      <th>14</th>\n",
              "      <td>2018</td>\n",
              "      <td>Plastics</td>\n",
              "      <td>41000.0</td>\n",
              "    </tr>\n",
              "    <tr>\n",
              "      <th>15</th>\n",
              "      <td>2019</td>\n",
              "      <td>Ferrous metal</td>\n",
              "      <td>1270000.0</td>\n",
              "    </tr>\n",
              "    <tr>\n",
              "      <th>16</th>\n",
              "      <td>2019</td>\n",
              "      <td>Glass</td>\n",
              "      <td>11000.0</td>\n",
              "    </tr>\n",
              "    <tr>\n",
              "      <th>17</th>\n",
              "      <td>2019</td>\n",
              "      <td>Non-ferrous metal</td>\n",
              "      <td>124000.0</td>\n",
              "    </tr>\n",
              "    <tr>\n",
              "      <th>18</th>\n",
              "      <td>2019</td>\n",
              "      <td>Plastics</td>\n",
              "      <td>37000.0</td>\n",
              "    </tr>\n",
              "  </tbody>\n",
              "</table>\n",
              "</div>"
            ],
            "text/plain": [
              "    year         Waste Type  Total Recycled\n",
              "0   2015      Ferrous metal       1333300.0\n",
              "1   2015              Glass         14600.0\n",
              "2   2015  Non-ferrous metal        160400.0\n",
              "3   2015           Plastics         57800.0\n",
              "4   2016      Ferrous metal       1351500.0\n",
              "5   2016              Glass         14700.0\n",
              "6   2016  Non-ferrous metal         95900.0\n",
              "7   2016           Plastics         59500.0\n",
              "8   2017      Ferrous metal       1371000.0\n",
              "9   2017              Glass         12400.0\n",
              "10  2017  Non-ferrous metal         92200.0\n",
              "11  2018      Ferrous metal        126000.0\n",
              "12  2018              Glass         12000.0\n",
              "13  2018  Non-ferrous metal        170000.0\n",
              "14  2018           Plastics         41000.0\n",
              "15  2019      Ferrous metal       1270000.0\n",
              "16  2019              Glass         11000.0\n",
              "17  2019  Non-ferrous metal        124000.0\n",
              "18  2019           Plastics         37000.0"
            ]
          },
          "execution_count": 258,
          "metadata": {},
          "output_type": "execute_result"
        }
      ],
      "source": [
        "recycled_total = pd.concat([recycled,recycled2]).reset_index(drop=True)\n",
        "recycled_total\n",
        "df['total energy saved'] = 0\n",
        "df['total energy saved'] = df['Total Recycled']*Some value"
      ]
    },
    {
      "cell_type": "code",
      "execution_count": null,
      "metadata": {
        "dc": {
          "key": "4"
        },
        "id": "Sm3xS3rNuRuQ",
        "outputId": "c4abb2b2-e35b-43a2-9eb9-0bfb4c051bdf"
      },
      "outputs": [
        {
          "data": {
            "text/html": [
              "<div>\n",
              "<style scoped>\n",
              "    .dataframe tbody tr th:only-of-type {\n",
              "        vertical-align: middle;\n",
              "    }\n",
              "\n",
              "    .dataframe tbody tr th {\n",
              "        vertical-align: top;\n",
              "    }\n",
              "\n",
              "    .dataframe thead th {\n",
              "        text-align: right;\n",
              "    }\n",
              "</style>\n",
              "<table border=\"1\" class=\"dataframe\">\n",
              "  <thead>\n",
              "    <tr style=\"text-align: right;\">\n",
              "      <th></th>\n",
              "      <th>year</th>\n",
              "      <th>Waste Type</th>\n",
              "      <th>Total Recycled</th>\n",
              "    </tr>\n",
              "  </thead>\n",
              "  <tbody>\n",
              "    <tr>\n",
              "      <th>0</th>\n",
              "      <td>2015</td>\n",
              "      <td>Ferrous metal</td>\n",
              "      <td>1333300.0</td>\n",
              "    </tr>\n",
              "    <tr>\n",
              "      <th>1</th>\n",
              "      <td>2019</td>\n",
              "      <td>Ferrous metal</td>\n",
              "      <td>1270000.0</td>\n",
              "    </tr>\n",
              "    <tr>\n",
              "      <th>2</th>\n",
              "      <td>2016</td>\n",
              "      <td>Ferrous metal</td>\n",
              "      <td>1351500.0</td>\n",
              "    </tr>\n",
              "    <tr>\n",
              "      <th>3</th>\n",
              "      <td>2018</td>\n",
              "      <td>Ferrous metal</td>\n",
              "      <td>126000.0</td>\n",
              "    </tr>\n",
              "    <tr>\n",
              "      <th>4</th>\n",
              "      <td>2017</td>\n",
              "      <td>Ferrous metal</td>\n",
              "      <td>1371000.0</td>\n",
              "    </tr>\n",
              "    <tr>\n",
              "      <th>5</th>\n",
              "      <td>2019</td>\n",
              "      <td>Glass</td>\n",
              "      <td>11000.0</td>\n",
              "    </tr>\n",
              "    <tr>\n",
              "      <th>6</th>\n",
              "      <td>2018</td>\n",
              "      <td>Glass</td>\n",
              "      <td>12000.0</td>\n",
              "    </tr>\n",
              "    <tr>\n",
              "      <th>7</th>\n",
              "      <td>2017</td>\n",
              "      <td>Glass</td>\n",
              "      <td>12400.0</td>\n",
              "    </tr>\n",
              "    <tr>\n",
              "      <th>8</th>\n",
              "      <td>2016</td>\n",
              "      <td>Glass</td>\n",
              "      <td>14700.0</td>\n",
              "    </tr>\n",
              "    <tr>\n",
              "      <th>9</th>\n",
              "      <td>2015</td>\n",
              "      <td>Glass</td>\n",
              "      <td>14600.0</td>\n",
              "    </tr>\n",
              "    <tr>\n",
              "      <th>10</th>\n",
              "      <td>2016</td>\n",
              "      <td>Non-ferrous metal</td>\n",
              "      <td>95900.0</td>\n",
              "    </tr>\n",
              "    <tr>\n",
              "      <th>11</th>\n",
              "      <td>2019</td>\n",
              "      <td>Non-ferrous metal</td>\n",
              "      <td>124000.0</td>\n",
              "    </tr>\n",
              "    <tr>\n",
              "      <th>12</th>\n",
              "      <td>2017</td>\n",
              "      <td>Non-ferrous metal</td>\n",
              "      <td>92200.0</td>\n",
              "    </tr>\n",
              "    <tr>\n",
              "      <th>13</th>\n",
              "      <td>2018</td>\n",
              "      <td>Non-ferrous metal</td>\n",
              "      <td>170000.0</td>\n",
              "    </tr>\n",
              "    <tr>\n",
              "      <th>14</th>\n",
              "      <td>2015</td>\n",
              "      <td>Non-ferrous metal</td>\n",
              "      <td>160400.0</td>\n",
              "    </tr>\n",
              "    <tr>\n",
              "      <th>15</th>\n",
              "      <td>2015</td>\n",
              "      <td>Plastics</td>\n",
              "      <td>57800.0</td>\n",
              "    </tr>\n",
              "    <tr>\n",
              "      <th>16</th>\n",
              "      <td>2018</td>\n",
              "      <td>Plastics</td>\n",
              "      <td>41000.0</td>\n",
              "    </tr>\n",
              "    <tr>\n",
              "      <th>17</th>\n",
              "      <td>2016</td>\n",
              "      <td>Plastics</td>\n",
              "      <td>59500.0</td>\n",
              "    </tr>\n",
              "    <tr>\n",
              "      <th>18</th>\n",
              "      <td>2019</td>\n",
              "      <td>Plastics</td>\n",
              "      <td>37000.0</td>\n",
              "    </tr>\n",
              "  </tbody>\n",
              "</table>\n",
              "</div>"
            ],
            "text/plain": [
              "    year         Waste Type  Total Recycled\n",
              "0   2015      Ferrous metal       1333300.0\n",
              "1   2019      Ferrous metal       1270000.0\n",
              "2   2016      Ferrous metal       1351500.0\n",
              "3   2018      Ferrous metal        126000.0\n",
              "4   2017      Ferrous metal       1371000.0\n",
              "5   2019              Glass         11000.0\n",
              "6   2018              Glass         12000.0\n",
              "7   2017              Glass         12400.0\n",
              "8   2016              Glass         14700.0\n",
              "9   2015              Glass         14600.0\n",
              "10  2016  Non-ferrous metal         95900.0\n",
              "11  2019  Non-ferrous metal        124000.0\n",
              "12  2017  Non-ferrous metal         92200.0\n",
              "13  2018  Non-ferrous metal        170000.0\n",
              "14  2015  Non-ferrous metal        160400.0\n",
              "15  2015           Plastics         57800.0\n",
              "16  2018           Plastics         41000.0\n",
              "17  2016           Plastics         59500.0\n",
              "18  2019           Plastics         37000.0"
            ]
          },
          "execution_count": 259,
          "metadata": {},
          "output_type": "execute_result"
        }
      ],
      "source": [
        "recycled_total = recycled_total.sort_values('Waste Type').reset_index(drop=True)\n",
        "recycled_total"
      ]
    },
    {
      "cell_type": "code",
      "execution_count": null,
      "metadata": {
        "collapsed": true,
        "dc": {
          "key": "4"
        },
        "id": "hTv2Xp_tuRuS"
      },
      "outputs": [],
      "source": [
        "total1 = list(recycled_total.loc[recycled_total['Waste Type'] == 'Ferrous metal'] ['Total Recycled'] * 642)\n",
        "total2 = list(recycled_total.loc[recycled_total['Waste Type'] == 'Glass'] ['Total Recycled'] * 42)\n",
        "total3 = list(recycled_total.loc[recycled_total['Waste Type'] == 'Non-ferrous metal'] ['Total Recycled'] * 14000)\n",
        "total4 = list(recycled_total.loc[recycled_total['Waste Type'] == 'Plastics'] ['Total Recycled'] * 5774)\n",
        "total_energy_saved = total1+total2+total3+total4\n",
        "recycled_total['total_energy_saved'] = total_energy_saved"
      ]
    },
    {
      "cell_type": "code",
      "execution_count": null,
      "metadata": {
        "dc": {
          "key": "4"
        },
        "id": "uIW4nVb_uRuS",
        "outputId": "ee9cbfa6-3484-4c08-8cdc-2cfe1c7092bb"
      },
      "outputs": [
        {
          "data": {
            "text/html": [
              "<div>\n",
              "<style scoped>\n",
              "    .dataframe tbody tr th:only-of-type {\n",
              "        vertical-align: middle;\n",
              "    }\n",
              "\n",
              "    .dataframe tbody tr th {\n",
              "        vertical-align: top;\n",
              "    }\n",
              "\n",
              "    .dataframe thead th {\n",
              "        text-align: right;\n",
              "    }\n",
              "</style>\n",
              "<table border=\"1\" class=\"dataframe\">\n",
              "  <thead>\n",
              "    <tr style=\"text-align: right;\">\n",
              "      <th></th>\n",
              "      <th>year</th>\n",
              "      <th>Waste Type</th>\n",
              "      <th>Total Recycled</th>\n",
              "      <th>total_energy_saved</th>\n",
              "    </tr>\n",
              "  </thead>\n",
              "  <tbody>\n",
              "    <tr>\n",
              "      <th>0</th>\n",
              "      <td>2015</td>\n",
              "      <td>Ferrous metal</td>\n",
              "      <td>1333300.0</td>\n",
              "      <td>8.559786e+08</td>\n",
              "    </tr>\n",
              "    <tr>\n",
              "      <th>1</th>\n",
              "      <td>2019</td>\n",
              "      <td>Ferrous metal</td>\n",
              "      <td>1270000.0</td>\n",
              "      <td>8.153400e+08</td>\n",
              "    </tr>\n",
              "    <tr>\n",
              "      <th>2</th>\n",
              "      <td>2016</td>\n",
              "      <td>Ferrous metal</td>\n",
              "      <td>1351500.0</td>\n",
              "      <td>8.676630e+08</td>\n",
              "    </tr>\n",
              "    <tr>\n",
              "      <th>3</th>\n",
              "      <td>2018</td>\n",
              "      <td>Ferrous metal</td>\n",
              "      <td>126000.0</td>\n",
              "      <td>8.089200e+07</td>\n",
              "    </tr>\n",
              "    <tr>\n",
              "      <th>4</th>\n",
              "      <td>2017</td>\n",
              "      <td>Ferrous metal</td>\n",
              "      <td>1371000.0</td>\n",
              "      <td>8.801820e+08</td>\n",
              "    </tr>\n",
              "    <tr>\n",
              "      <th>5</th>\n",
              "      <td>2019</td>\n",
              "      <td>Glass</td>\n",
              "      <td>11000.0</td>\n",
              "      <td>4.620000e+05</td>\n",
              "    </tr>\n",
              "    <tr>\n",
              "      <th>6</th>\n",
              "      <td>2018</td>\n",
              "      <td>Glass</td>\n",
              "      <td>12000.0</td>\n",
              "      <td>5.040000e+05</td>\n",
              "    </tr>\n",
              "    <tr>\n",
              "      <th>7</th>\n",
              "      <td>2017</td>\n",
              "      <td>Glass</td>\n",
              "      <td>12400.0</td>\n",
              "      <td>5.208000e+05</td>\n",
              "    </tr>\n",
              "    <tr>\n",
              "      <th>8</th>\n",
              "      <td>2016</td>\n",
              "      <td>Glass</td>\n",
              "      <td>14700.0</td>\n",
              "      <td>6.174000e+05</td>\n",
              "    </tr>\n",
              "    <tr>\n",
              "      <th>9</th>\n",
              "      <td>2015</td>\n",
              "      <td>Glass</td>\n",
              "      <td>14600.0</td>\n",
              "      <td>6.132000e+05</td>\n",
              "    </tr>\n",
              "    <tr>\n",
              "      <th>10</th>\n",
              "      <td>2016</td>\n",
              "      <td>Non-ferrous metal</td>\n",
              "      <td>95900.0</td>\n",
              "      <td>1.342600e+09</td>\n",
              "    </tr>\n",
              "    <tr>\n",
              "      <th>11</th>\n",
              "      <td>2019</td>\n",
              "      <td>Non-ferrous metal</td>\n",
              "      <td>124000.0</td>\n",
              "      <td>1.736000e+09</td>\n",
              "    </tr>\n",
              "    <tr>\n",
              "      <th>12</th>\n",
              "      <td>2017</td>\n",
              "      <td>Non-ferrous metal</td>\n",
              "      <td>92200.0</td>\n",
              "      <td>1.290800e+09</td>\n",
              "    </tr>\n",
              "    <tr>\n",
              "      <th>13</th>\n",
              "      <td>2018</td>\n",
              "      <td>Non-ferrous metal</td>\n",
              "      <td>170000.0</td>\n",
              "      <td>2.380000e+09</td>\n",
              "    </tr>\n",
              "    <tr>\n",
              "      <th>14</th>\n",
              "      <td>2015</td>\n",
              "      <td>Non-ferrous metal</td>\n",
              "      <td>160400.0</td>\n",
              "      <td>2.245600e+09</td>\n",
              "    </tr>\n",
              "    <tr>\n",
              "      <th>15</th>\n",
              "      <td>2015</td>\n",
              "      <td>Plastics</td>\n",
              "      <td>57800.0</td>\n",
              "      <td>3.337372e+08</td>\n",
              "    </tr>\n",
              "    <tr>\n",
              "      <th>16</th>\n",
              "      <td>2018</td>\n",
              "      <td>Plastics</td>\n",
              "      <td>41000.0</td>\n",
              "      <td>2.367340e+08</td>\n",
              "    </tr>\n",
              "    <tr>\n",
              "      <th>17</th>\n",
              "      <td>2016</td>\n",
              "      <td>Plastics</td>\n",
              "      <td>59500.0</td>\n",
              "      <td>3.435530e+08</td>\n",
              "    </tr>\n",
              "    <tr>\n",
              "      <th>18</th>\n",
              "      <td>2019</td>\n",
              "      <td>Plastics</td>\n",
              "      <td>37000.0</td>\n",
              "      <td>2.136380e+08</td>\n",
              "    </tr>\n",
              "  </tbody>\n",
              "</table>\n",
              "</div>"
            ],
            "text/plain": [
              "    year         Waste Type  Total Recycled  total_energy_saved\n",
              "0   2015      Ferrous metal       1333300.0        8.559786e+08\n",
              "1   2019      Ferrous metal       1270000.0        8.153400e+08\n",
              "2   2016      Ferrous metal       1351500.0        8.676630e+08\n",
              "3   2018      Ferrous metal        126000.0        8.089200e+07\n",
              "4   2017      Ferrous metal       1371000.0        8.801820e+08\n",
              "5   2019              Glass         11000.0        4.620000e+05\n",
              "6   2018              Glass         12000.0        5.040000e+05\n",
              "7   2017              Glass         12400.0        5.208000e+05\n",
              "8   2016              Glass         14700.0        6.174000e+05\n",
              "9   2015              Glass         14600.0        6.132000e+05\n",
              "10  2016  Non-ferrous metal         95900.0        1.342600e+09\n",
              "11  2019  Non-ferrous metal        124000.0        1.736000e+09\n",
              "12  2017  Non-ferrous metal         92200.0        1.290800e+09\n",
              "13  2018  Non-ferrous metal        170000.0        2.380000e+09\n",
              "14  2015  Non-ferrous metal        160400.0        2.245600e+09\n",
              "15  2015           Plastics         57800.0        3.337372e+08\n",
              "16  2018           Plastics         41000.0        2.367340e+08\n",
              "17  2016           Plastics         59500.0        3.435530e+08\n",
              "18  2019           Plastics         37000.0        2.136380e+08"
            ]
          },
          "execution_count": 261,
          "metadata": {},
          "output_type": "execute_result"
        }
      ],
      "source": [
        "recycled_total"
      ]
    },
    {
      "cell_type": "code",
      "execution_count": null,
      "metadata": {
        "dc": {
          "key": "4"
        },
        "id": "wjj7mFqQuRuV",
        "outputId": "d8a0f7ea-e6b3-44f0-e08e-1a5d79fe5cf0"
      },
      "outputs": [
        {
          "data": {
            "text/html": [
              "<div>\n",
              "<style scoped>\n",
              "    .dataframe tbody tr th:only-of-type {\n",
              "        vertical-align: middle;\n",
              "    }\n",
              "\n",
              "    .dataframe tbody tr th {\n",
              "        vertical-align: top;\n",
              "    }\n",
              "\n",
              "    .dataframe thead th {\n",
              "        text-align: right;\n",
              "    }\n",
              "</style>\n",
              "<table border=\"1\" class=\"dataframe\">\n",
              "  <thead>\n",
              "    <tr style=\"text-align: right;\">\n",
              "      <th></th>\n",
              "      <th>The table gives the amount of energy saved in kilowatt hour (kWh) and the amount of crude oil (barrels) by recycling 1 metric tonne (1000 kilogram)  per waste type</th>\n",
              "      <th>Unnamed: 1</th>\n",
              "      <th>Unnamed: 2</th>\n",
              "      <th>Unnamed: 3</th>\n",
              "      <th>Unnamed: 4</th>\n",
              "      <th>Unnamed: 5</th>\n",
              "    </tr>\n",
              "  </thead>\n",
              "  <tbody>\n",
              "    <tr>\n",
              "      <th>0</th>\n",
              "      <td>1 barrel oil is approximately 159 litres of oil</td>\n",
              "      <td>NaN</td>\n",
              "      <td>NaN</td>\n",
              "      <td>NaN</td>\n",
              "      <td>NaN</td>\n",
              "      <td>NaN</td>\n",
              "    </tr>\n",
              "    <tr>\n",
              "      <th>1</th>\n",
              "      <td>NaN</td>\n",
              "      <td>NaN</td>\n",
              "      <td>NaN</td>\n",
              "      <td>NaN</td>\n",
              "      <td>NaN</td>\n",
              "      <td>NaN</td>\n",
              "    </tr>\n",
              "    <tr>\n",
              "      <th>2</th>\n",
              "      <td>material</td>\n",
              "      <td>Plastic</td>\n",
              "      <td>Glass</td>\n",
              "      <td>Ferrous Metal</td>\n",
              "      <td>Non-Ferrous Metal</td>\n",
              "      <td>Paper</td>\n",
              "    </tr>\n",
              "    <tr>\n",
              "      <th>3</th>\n",
              "      <td>energy_saved</td>\n",
              "      <td>5774 Kwh</td>\n",
              "      <td>42 Kwh</td>\n",
              "      <td>642 Kwh</td>\n",
              "      <td>14000 Kwh</td>\n",
              "      <td>4000 kWh</td>\n",
              "    </tr>\n",
              "    <tr>\n",
              "      <th>4</th>\n",
              "      <td>crude_oil saved</td>\n",
              "      <td>16 barrels</td>\n",
              "      <td>NaN</td>\n",
              "      <td>1.8 barrels</td>\n",
              "      <td>40 barrels</td>\n",
              "      <td>1.7 barrels</td>\n",
              "    </tr>\n",
              "  </tbody>\n",
              "</table>\n",
              "</div>"
            ],
            "text/plain": [
              "  The table gives the amount of energy saved in kilowatt hour (kWh) and the amount of crude oil (barrels) by recycling 1 metric tonne (1000 kilogram)  per waste type  \\\n",
              "0    1 barrel oil is approximately 159 litres of oil                                                                                                                    \n",
              "1                                                NaN                                                                                                                    \n",
              "2                                           material                                                                                                                    \n",
              "3                                       energy_saved                                                                                                                    \n",
              "4                                    crude_oil saved                                                                                                                    \n",
              "\n",
              "   Unnamed: 1 Unnamed: 2     Unnamed: 3         Unnamed: 4   Unnamed: 5  \n",
              "0         NaN        NaN            NaN                NaN          NaN  \n",
              "1         NaN        NaN            NaN                NaN          NaN  \n",
              "2     Plastic      Glass  Ferrous Metal  Non-Ferrous Metal        Paper  \n",
              "3    5774 Kwh     42 Kwh        642 Kwh          14000 Kwh     4000 kWh  \n",
              "4  16 barrels        NaN    1.8 barrels         40 barrels  1.7 barrels  "
            ]
          },
          "execution_count": 262,
          "metadata": {},
          "output_type": "execute_result"
        }
      ],
      "source": [
        "energy.head()"
      ]
    },
    {
      "cell_type": "code",
      "execution_count": null,
      "metadata": {
        "dc": {
          "key": "4"
        },
        "id": "XPZd95MruRuW",
        "outputId": "37a7f712-a5f8-47b8-afd5-5a7cc23ea238"
      },
      "outputs": [
        {
          "data": {
            "text/html": [
              "<div>\n",
              "<style scoped>\n",
              "    .dataframe tbody tr th:only-of-type {\n",
              "        vertical-align: middle;\n",
              "    }\n",
              "\n",
              "    .dataframe tbody tr th {\n",
              "        vertical-align: top;\n",
              "    }\n",
              "\n",
              "    .dataframe thead th {\n",
              "        text-align: right;\n",
              "    }\n",
              "</style>\n",
              "<table border=\"1\" class=\"dataframe\">\n",
              "  <thead>\n",
              "    <tr style=\"text-align: right;\">\n",
              "      <th></th>\n",
              "      <th>total_energy_saved</th>\n",
              "    </tr>\n",
              "    <tr>\n",
              "      <th>year</th>\n",
              "      <th></th>\n",
              "    </tr>\n",
              "  </thead>\n",
              "  <tbody>\n",
              "    <tr>\n",
              "      <th>2015</th>\n",
              "      <td>3.435929e+09</td>\n",
              "    </tr>\n",
              "    <tr>\n",
              "      <th>2016</th>\n",
              "      <td>2.554433e+09</td>\n",
              "    </tr>\n",
              "    <tr>\n",
              "      <th>2017</th>\n",
              "      <td>2.171503e+09</td>\n",
              "    </tr>\n",
              "    <tr>\n",
              "      <th>2018</th>\n",
              "      <td>2.698130e+09</td>\n",
              "    </tr>\n",
              "    <tr>\n",
              "      <th>2019</th>\n",
              "      <td>2.765440e+09</td>\n",
              "    </tr>\n",
              "  </tbody>\n",
              "</table>\n",
              "</div>"
            ],
            "text/plain": [
              "      total_energy_saved\n",
              "year                    \n",
              "2015        3.435929e+09\n",
              "2016        2.554433e+09\n",
              "2017        2.171503e+09\n",
              "2018        2.698130e+09\n",
              "2019        2.765440e+09"
            ]
          },
          "execution_count": 263,
          "metadata": {},
          "output_type": "execute_result"
        }
      ],
      "source": [
        "(pd.DataFrame(recycled_total.groupby('year')['total_energy_saved'].sum()))"
      ]
    },
    {
      "cell_type": "code",
      "execution_count": null,
      "metadata": {
        "collapsed": true,
        "dc": {
          "key": "4"
        },
        "id": "NBGjHsYguRuZ"
      },
      "outputs": [],
      "source": [
        "annual_energy_savings = pd.DataFrame(recycled_total.groupby('year')['total_energy_saved'].sum())"
      ]
    },
    {
      "cell_type": "code",
      "execution_count": null,
      "metadata": {
        "collapsed": true,
        "dc": {
          "key": "4"
        },
        "id": "CDb2RKlxuRuZ"
      },
      "outputs": [],
      "source": [
        ""
      ]
    },
    {
      "cell_type": "code",
      "execution_count": null,
      "metadata": {
        "collapsed": true,
        "dc": {
          "key": "4"
        },
        "id": "3T6LNnBHuRua"
      },
      "outputs": [],
      "source": [
        ""
      ]
    },
    {
      "cell_type": "code",
      "execution_count": null,
      "metadata": {
        "collapsed": true,
        "dc": {
          "key": "4"
        },
        "id": "NLjI1nusuRua"
      },
      "outputs": [],
      "source": [
        ""
      ]
    },
    {
      "cell_type": "code",
      "execution_count": null,
      "metadata": {
        "collapsed": true,
        "dc": {
          "key": "4"
        },
        "id": "JNhC_hpzuRub"
      },
      "outputs": [],
      "source": [
        ""
      ]
    },
    {
      "cell_type": "code",
      "execution_count": null,
      "metadata": {
        "collapsed": true,
        "dc": {
          "key": "4"
        },
        "id": "N175IKJsuRuc"
      },
      "outputs": [],
      "source": [
        ""
      ]
    },
    {
      "cell_type": "code",
      "execution_count": null,
      "metadata": {
        "collapsed": true,
        "dc": {
          "key": "4"
        },
        "id": "cseS1fwguRud"
      },
      "outputs": [],
      "source": [
        ""
      ]
    },
    {
      "cell_type": "code",
      "execution_count": null,
      "metadata": {
        "collapsed": true,
        "dc": {
          "key": "4"
        },
        "id": "fRc94CoyuRud"
      },
      "outputs": [],
      "source": [
        ""
      ]
    },
    {
      "cell_type": "code",
      "execution_count": null,
      "metadata": {
        "collapsed": true,
        "dc": {
          "key": "4"
        },
        "id": "hK4r0bikuRue"
      },
      "outputs": [],
      "source": [
        ""
      ]
    },
    {
      "cell_type": "code",
      "execution_count": null,
      "metadata": {
        "collapsed": true,
        "dc": {
          "key": "4"
        },
        "id": "mKSJlLWvuRuf"
      },
      "outputs": [],
      "source": [
        ""
      ]
    },
    {
      "cell_type": "code",
      "execution_count": null,
      "metadata": {
        "collapsed": true,
        "dc": {
          "key": "4"
        },
        "id": "DOl9RDyAuRug"
      },
      "outputs": [],
      "source": [
        ""
      ]
    },
    {
      "cell_type": "code",
      "execution_count": null,
      "metadata": {
        "collapsed": true,
        "dc": {
          "key": "4"
        },
        "id": "zdBBOwC-uRug"
      },
      "outputs": [],
      "source": [
        ""
      ]
    },
    {
      "cell_type": "code",
      "execution_count": null,
      "metadata": {
        "collapsed": true,
        "dc": {
          "key": "4"
        },
        "id": "6TLO6TWDuRug"
      },
      "outputs": [],
      "source": [
        ""
      ]
    },
    {
      "cell_type": "code",
      "execution_count": null,
      "metadata": {
        "collapsed": true,
        "dc": {
          "key": "4"
        },
        "id": "5X2YpIXXuRuh"
      },
      "outputs": [],
      "source": [
        ""
      ]
    },
    {
      "cell_type": "code",
      "execution_count": null,
      "metadata": {
        "collapsed": true,
        "dc": {
          "key": "4"
        },
        "id": "AWJpONuCuRuh"
      },
      "outputs": [],
      "source": [
        ""
      ]
    },
    {
      "cell_type": "code",
      "execution_count": null,
      "metadata": {
        "collapsed": true,
        "dc": {
          "key": "4"
        },
        "id": "wz3epdnwuRuh"
      },
      "outputs": [],
      "source": [
        ""
      ]
    },
    {
      "cell_type": "code",
      "execution_count": null,
      "metadata": {
        "collapsed": true,
        "dc": {
          "key": "4"
        },
        "id": "mDCmoawyuRuh"
      },
      "outputs": [],
      "source": [
        ""
      ]
    },
    {
      "cell_type": "code",
      "execution_count": null,
      "metadata": {
        "collapsed": true,
        "dc": {
          "key": "4"
        },
        "id": "tsYnJBe7uRui"
      },
      "outputs": [],
      "source": [
        ""
      ]
    },
    {
      "cell_type": "code",
      "execution_count": null,
      "metadata": {
        "collapsed": true,
        "dc": {
          "key": "4"
        },
        "id": "cPXdKltyuRui"
      },
      "outputs": [],
      "source": [
        ""
      ]
    },
    {
      "cell_type": "code",
      "execution_count": null,
      "metadata": {
        "collapsed": true,
        "dc": {
          "key": "4"
        },
        "id": "e6SlnpemuRui"
      },
      "outputs": [],
      "source": [
        ""
      ]
    },
    {
      "cell_type": "code",
      "execution_count": null,
      "metadata": {
        "collapsed": true,
        "dc": {
          "key": "4"
        },
        "id": "dYtOH_o-uRuj"
      },
      "outputs": [],
      "source": [
        ""
      ]
    },
    {
      "cell_type": "code",
      "execution_count": null,
      "metadata": {
        "collapsed": true,
        "dc": {
          "key": "4"
        },
        "id": "bx4kLzMkuRuj"
      },
      "outputs": [],
      "source": [
        ""
      ]
    },
    {
      "cell_type": "code",
      "execution_count": null,
      "metadata": {
        "collapsed": true,
        "dc": {
          "key": "4"
        },
        "id": "mjLXlH-FuRuj"
      },
      "outputs": [],
      "source": [
        ""
      ]
    },
    {
      "cell_type": "code",
      "execution_count": null,
      "metadata": {
        "collapsed": true,
        "dc": {
          "key": "4"
        },
        "id": "ekUfrt8puRuj"
      },
      "outputs": [],
      "source": [
        ""
      ]
    },
    {
      "cell_type": "code",
      "execution_count": null,
      "metadata": {
        "collapsed": true,
        "dc": {
          "key": "4"
        },
        "id": "1rZtPXPduRuk"
      },
      "outputs": [],
      "source": [
        ""
      ]
    },
    {
      "cell_type": "code",
      "execution_count": null,
      "metadata": {
        "collapsed": true,
        "dc": {
          "key": "4"
        },
        "id": "gVF2gmdIuRuk"
      },
      "outputs": [],
      "source": [
        ""
      ]
    },
    {
      "cell_type": "code",
      "execution_count": null,
      "metadata": {
        "collapsed": true,
        "dc": {
          "key": "4"
        },
        "id": "7KbHwGL7uRuk"
      },
      "outputs": [],
      "source": [
        ""
      ]
    },
    {
      "cell_type": "code",
      "execution_count": null,
      "metadata": {
        "collapsed": true,
        "dc": {
          "key": "4"
        },
        "id": "mdvW4J3_uRul"
      },
      "outputs": [],
      "source": [
        ""
      ]
    },
    {
      "cell_type": "code",
      "execution_count": null,
      "metadata": {
        "collapsed": true,
        "dc": {
          "key": "4"
        },
        "id": "ZTqEbe9TuRum"
      },
      "outputs": [],
      "source": [
        ""
      ]
    },
    {
      "cell_type": "code",
      "execution_count": null,
      "metadata": {
        "collapsed": true,
        "dc": {
          "key": "4"
        },
        "id": "Bw_O2y0YuRum"
      },
      "outputs": [],
      "source": [
        ""
      ]
    },
    {
      "cell_type": "code",
      "execution_count": null,
      "metadata": {
        "collapsed": true,
        "dc": {
          "key": "4"
        },
        "id": "tZdKJdw3uRun"
      },
      "outputs": [],
      "source": [
        ""
      ]
    }
  ],
  "metadata": {
    "kernelspec": {
      "display_name": "Python 3",
      "language": "python",
      "name": "python3"
    },
    "language_info": {
      "codemirror_mode": {
        "name": "ipython",
        "version": 3
      },
      "file_extension": ".py",
      "mimetype": "text/x-python",
      "name": "python",
      "nbconvert_exporter": "python",
      "pygments_lexer": "ipython3",
      "version": "3.7.6"
    },
    "colab": {
      "name": "notebook.ipynb",
      "provenance": [],
      "include_colab_link": true
    }
  },
  "nbformat": 4,
  "nbformat_minor": 0
}